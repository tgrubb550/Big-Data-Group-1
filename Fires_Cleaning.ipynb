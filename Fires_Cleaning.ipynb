{
 "cells": [
  {
   "cell_type": "code",
   "execution_count": 1,
   "metadata": {},
   "outputs": [],
   "source": [
    "import pandas as pd\n",
    "import datetime\n",
    "import calendar"
   ]
  },
  {
   "cell_type": "code",
   "execution_count": 2,
   "metadata": {},
   "outputs": [],
   "source": [
    "# Read the file in as a pandas dataframe\n",
    "rawdata_df = pd.read_csv('White goods fires from 2009.csv')"
   ]
  },
  {
   "cell_type": "code",
   "execution_count": 3,
   "metadata": {},
   "outputs": [],
   "source": [
    "# Drop unwanted fields\n",
    "droppedFields_df = rawdata_df.copy()\n",
    "droppedFields_df.drop(['IncGeo_BoroughCode','IncGeo_WardCode','IgnitionSourcePower'],axis=1, inplace=True)"
   ]
  },
  {
   "cell_type": "code",
   "execution_count": 4,
   "metadata": {},
   "outputs": [],
   "source": [
    "# Best practice to copy the df\n",
    "Caps_clean = droppedFields_df.copy()\n",
    "\n",
    "# List of column headers\n",
    "Col_Head = list(Caps_clean.columns)\n",
    "\n",
    "# Convert values to uppercase, handling null values\n",
    "for col in Col_Head:    \n",
    "    \n",
    "    # Check if column dtype is integer\n",
    "    if Caps_clean[col].dtype == 'int64':\n",
    "        continue  # Skip columns with integer dtype\n",
    "    \n",
    "    else:    \n",
    "        Caps_clean[col] = Caps_clean[col].apply(lambda x: x.lower() if pd.notnull(x) else x)"
   ]
  },
  {
   "cell_type": "code",
   "execution_count": 5,
   "metadata": {},
   "outputs": [],
   "source": [
    "# Best practice to copy the df\n",
    "NullWords_clean = Caps_clean.copy()\n",
    "\n",
    "# List of words which mean null\n",
    "NullWordsList = ['unknown', 'fit to supply', 'not known', 'unable to find', 'unable to read burnt', 'undetermined', 'unknown-no evidence', 'not determinable', 'badly damaged', 'unable to identify ', 'unidentified', 'not determined', 'no make or model number', 'no manufacturers details available', 'no marks or identification', 'unable to identify', 'not identified', 'believed philips', 'not yet determined', 'imported appliance from uae', 'unable to positively identify manufacturer', 'unable to read label', 'faulty programer ', 'unable to determine make', 'not known - dishwasher', 'too badly damaged', 'no distinguishing marks on fridge', 'unkmown', 'tbc', 'unknown severly fire damaged', 'uknown', 'unbranded', 'no markings', 'fridge completely destroyed by fire', 'hda', 'unknown (destroyed)', 'possibly hotpoint or indisit', 'unknown ', 'no known', 'see further information', 'very old appliance, manufacturer not known by owner and unmarked', 'unknown due to damage', 'not confirmed', 'unkown', ' unknown', 'unknown - no identifying marks', 'other', 'commercial fridge, no make  visible', 'could not find name', 'damaged beyond recognition', 'possibly bought from argos', 'unidentifiable', 'not known due to the age and extent of burning', 'unknown burnt out', 'manufacturer unclear upon examination of appliance', '.', 'unknown total loss', 'unbranded industrial unit', 'comercial freezer', 'dometic', 'n/k ', 'make ', '0', 'no idenity markings on freezer', 'n/a', 'no manufacturers name available', 'semiautomatic washing machine', 'pending confimation by owner', 'pending further information ', 'awaiting analysis', 'item not known due to fire damage', 'unconfirmed hotpoint/whirpool', 'un identfiable', 'unconfirmed possibley beko', 'not located due to fire damage. owner unsure of manufacturer.  ', 'not ', 'was unable to identify', 'not known ', 'unknown make', 'essential', 'pro action ', 'unk nown', 'n/k', 'unknown no markings', 'hotpoint or indesit - dxf', 'pending', 'unknown - old and worn off label', 'currys', 'not visible', 'commercial fridge', 'unknown due to fire damage', 'storer display counter refridgerator', 'illedgble label','completely burnt out', 'unkown ', 'essentials', 'unknown all markings removed', 'old spin drier', 'polar refrigeration', 'no details available', 'not known, identification destroyed by fire', 'subcold', 'not available', 'awaiting bv examination', 'not shown ', 'baumatic tumble dryer', 'old spin dryer - brand not known', 'innex', 'pending amdea report', 'adexa', 'easy cold ce', 'no manufacturer found ', 'custom made fridge', 'tcym750c6p', 'no make visible']\n",
    "\n",
    "# Replace words with null in the entire DataFrame\n",
    "NullWords_clean.replace(NullWordsList, pd.NA, inplace=True)"
   ]
  },
  {
   "cell_type": "code",
   "execution_count": 6,
   "metadata": {},
   "outputs": [],
   "source": [
    "# Best practice to copy the df\n",
    "Concat_df = NullWords_clean.copy()\n",
    "\n",
    "# Create a new list\n",
    "ApplianceManufacturerList = []\n",
    "\n",
    "# Append to the lists\n",
    "for value1, value2 in zip(Concat_df['ApplianceManufacturer'], Concat_df['ApplianceManufacturerOther']):\n",
    "    if pd.isnull(value1) and pd.isnull(value2):\n",
    "        ApplianceManufacturerList.append(pd.NA) # Append null if both fields are null\n",
    "    elif pd.isnull(value1):\n",
    "        ApplianceManufacturerList.append(value2) # Append ApplianceManufacturer if null in other field\n",
    "    elif pd.isnull(value2):\n",
    "        ApplianceManufacturerList.append(value1) # Append ApplianceManufacturerOther if null in other field\n",
    "    else:\n",
    "        newValue = value1 + value2\n",
    "        ApplianceManufacturerList.append(newValue) # concatenate if both fields are not null\n",
    "\n",
    "\n",
    "# Replace ApplianceManufacturer field with new values\n",
    "Concat_df['ApplianceManufacturer'] = ApplianceManufacturerList\n",
    "\n",
    "# Drop ApplianceManufacturerOther field\n",
    "Concat_df.drop('ApplianceManufacturerOther',axis=1, inplace=True)"
   ]
  },
  {
   "cell_type": "code",
   "execution_count": 7,
   "metadata": {},
   "outputs": [],
   "source": [
    "# Best practice to copy the df\n",
    "Clean_df = Concat_df.copy()\n",
    "\n",
    "# Capitalising function\n",
    "def capitalise(Column):\n",
    "    ColumnList = [] # create new list\n",
    "    for value in Clean_df[Column]:\n",
    "       if pd.isnull(value): # append with null if null\n",
    "           ColumnList.append(value)\n",
    "       else:\n",
    "           CapValue = value.capitalize() # append capitalised value\n",
    "           ColumnList.append(CapValue)\n",
    "    Clean_df[Column] = ColumnList\n",
    "\n",
    "# Capitalise fields with propoer noun values\n",
    "capitalise('Month')\n",
    "capitalise('IncGeo_BoroughName')\n",
    "capitalise('IncGeo_WardName')\n",
    "capitalise('ApplianceManufacturer')\n",
    "\n",
    "# Function to convert worded month to its numerical representation\n",
    "def month_to_number(month_name):\n",
    "    return list(calendar.month_name).index(month_name.capitalize())\n",
    "\n",
    "# Apply the function to the 'Month' column\n",
    "Clean_df['Month_number'] = Clean_df['Month'].apply(month_to_number)\n",
    "\n",
    "# Combine 'Year' and 'Month' columns and create a new 'Date' column\n",
    "Clean_df['Date'] = Clean_df['Year'].astype(str) + '-' + Clean_df['Month_number'].astype(str).str.zfill(2)\n",
    "\n",
    "# Convert 'Date' column to datetime format\n",
    "Clean_df['Date'] = pd.to_datetime(Clean_df['Date'], format='%Y-%m')\n",
    "\n",
    "Clean_df.drop(['Month_number'],axis=1, inplace=True)\n",
    "\n",
    "# Write DataFrame to CSV file\n",
    "Clean_df.to_csv('clean_firedata.csv', index=False)"
   ]
  },
  {
   "cell_type": "code",
   "execution_count": null,
   "metadata": {},
   "outputs": [],
   "source": []
  }
 ],
 "metadata": {
  "kernelspec": {
   "display_name": "base",
   "language": "python",
   "name": "python3"
  },
  "language_info": {
   "codemirror_mode": {
    "name": "ipython",
    "version": 3
   },
   "file_extension": ".py",
   "mimetype": "text/x-python",
   "name": "python",
   "nbconvert_exporter": "python",
   "pygments_lexer": "ipython3",
   "version": "3.11.5"
  }
 },
 "nbformat": 4,
 "nbformat_minor": 2
}
