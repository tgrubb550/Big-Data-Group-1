{
 "cells": [
  {
   "cell_type": "code",
   "execution_count": 5,
   "metadata": {},
   "outputs": [
    {
     "name": "stdout",
     "output_type": "stream",
     "text": [
      "Moviepy - Building video output_combined_clips.mp4.\n",
      "MoviePy - Writing audio in output_combined_clipsTEMP_MPY_wvf_snd.mp3\n"
     ]
    },
    {
     "name": "stderr",
     "output_type": "stream",
     "text": [
      "                                                                        \r"
     ]
    },
    {
     "name": "stdout",
     "output_type": "stream",
     "text": [
      "MoviePy - Done.\n",
      "Moviepy - Writing video output_combined_clips.mp4\n",
      "\n"
     ]
    },
    {
     "name": "stderr",
     "output_type": "stream",
     "text": [
      "                                                                  \r"
     ]
    },
    {
     "name": "stdout",
     "output_type": "stream",
     "text": [
      "Moviepy - Done !\n",
      "Moviepy - video ready output_combined_clips.mp4\n"
     ]
    }
   ],
   "source": [
    "from moviepy.editor import VideoFileClip, concatenate_videoclips\n",
    "\n",
    "def extract_and_combine_clips(input_file, output_file, clip_segments):\n",
    "    # Load the video clip\n",
    "    clip = VideoFileClip(input_file)\n",
    "\n",
    "    # Extract specified clip segments\n",
    "    clips = []\n",
    "    for segment in clip_segments:\n",
    "        start_time, end_time = segment\n",
    "        clips.append(clip.subclip(start_time, end_time))\n",
    "\n",
    "    # Combine the clips\n",
    "    final_clip = concatenate_videoclips(clips)\n",
    "\n",
    "    # Write the final video to a file\n",
    "    final_clip.write_videofile(output_file)\n",
    "\n",
    "    # Close the clips\n",
    "    clip.close()\n",
    "    final_clip.close()\n",
    "\n",
    "# Input file\n",
    "input_file = \"Big Data Group 1 raw presentation.mp4\"\n",
    "output_file = \"output_combined_clips.mp4\"\n",
    "\n",
    "# Define clip segments in the format (start_time, end_time)\n",
    "clip_segments = [\n",
    "    (7*60 + 21, 17*60 + 58),\n",
    "    (18*60 + 36, 22*60 + 50),\n",
    "    (24*60 + 30, 25*60 + 29),\n",
    "    (25*60 + 45, 26*60 + 25),\n",
    "    (28*60 + 51, 32*60 + 4)\n",
    "]\n",
    "\n",
    "# Extract and combine the specified clip segments\n",
    "extract_and_combine_clips(input_file, output_file, clip_segments)\n",
    "\n"
   ]
  },
  {
   "cell_type": "code",
   "execution_count": null,
   "metadata": {},
   "outputs": [],
   "source": []
  }
 ],
 "metadata": {
  "kernelspec": {
   "display_name": "base",
   "language": "python",
   "name": "python3"
  },
  "language_info": {
   "codemirror_mode": {
    "name": "ipython",
    "version": 3
   },
   "file_extension": ".py",
   "mimetype": "text/x-python",
   "name": "python",
   "nbconvert_exporter": "python",
   "pygments_lexer": "ipython3",
   "version": "3.11.5"
  }
 },
 "nbformat": 4,
 "nbformat_minor": 2
}
