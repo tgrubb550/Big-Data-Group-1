{
 "cells": [
  {
   "cell_type": "code",
   "execution_count": 1,
   "metadata": {},
   "outputs": [],
   "source": [
    "import pyspark\n",
    "from pyspark.sql import SparkSession"
   ]
  },
  {
   "cell_type": "markdown",
   "metadata": {},
   "source": [
    "# Step 1: Create a SparkSession"
   ]
  },
  {
   "cell_type": "code",
   "execution_count": 14,
   "metadata": {},
   "outputs": [],
   "source": [
    "# Step 1: Create a SparkSession\n",
    "spark = SparkSession.builder \\\n",
    "    .master(\"local[*]\") \\\n",
    "    .appName(\"Fire Incident Analysis\") \\\n",
    "    .getOrCreate()\n",
    "\n",
    "# Step 2: Load Data\n",
    "df = spark.read.csv(\"clean_firedata.csv\", header=True, inferSchema=True)"
   ]
  },
  {
   "cell_type": "code",
   "execution_count": 15,
   "metadata": {},
   "outputs": [],
   "source": [
    "# Step 2: Data Exploration"
   ]
  },
  {
   "cell_type": "code",
   "execution_count": 16,
   "metadata": {},
   "outputs": [
    {
     "name": "stdout",
     "output_type": "stream",
     "text": [
      "Schema:\n",
      "root\n",
      " |-- Year: integer (nullable = true)\n",
      " |-- Month: string (nullable = true)\n",
      " |-- IncType: string (nullable = true)\n",
      " |-- ParentPropertyType: string (nullable = true)\n",
      " |-- NumFireDeaths: integer (nullable = true)\n",
      " |-- NumAllFireInjuries: integer (nullable = true)\n",
      " |-- IncGeo_BoroughName: string (nullable = true)\n",
      " |-- IncGeo_WardName: string (nullable = true)\n",
      " |-- IgnitionSource: string (nullable = true)\n",
      " |-- ItemFirstIgnited: string (nullable = true)\n",
      " |-- LocationFireStarted: string (nullable = true)\n",
      " |-- ApplianceManufacturer: string (nullable = true)\n",
      " |-- MainCauseModel: string (nullable = true)\n",
      "\n",
      "First few rows:\n",
      "+----+-----+------------+--------------------+-------------+------------------+------------------+-------------------+--------------------+--------------------+-------------------+---------------------+--------------------+\n",
      "|Year|Month|     IncType|  ParentPropertyType|NumFireDeaths|NumAllFireInjuries|IncGeo_BoroughName|    IncGeo_WardName|      IgnitionSource|    ItemFirstIgnited|LocationFireStarted|ApplianceManufacturer|      MainCauseModel|\n",
      "+----+-----+------------+--------------------+-------------+------------------+------------------+-------------------+--------------------+--------------------+-------------------+---------------------+--------------------+\n",
      "|2009| June|primary fire|purpose built fla...|            0|                 0|       Westminster|     Vincent square|                NULL|   wiring insulation|            kitchen|               Hoover|       quattro as110|\n",
      "|2009| July|primary fire|purpose built fla...|            0|                 0|            Camden|      Camden square|                NULL|plastic - raw mat...|            kitchen|                Candy|       aquaviva 120t|\n",
      "|2009| June|primary fire|purpose built fla...|            0|                 1|          Havering|           Elm park|      fridge/freezer|plastic - raw mat...|      corridor/hall|                Bejam|fridge freezer mo...|\n",
      "|2009| July|primary fire|purpose built fla...|            0|                 0|           Lambeth|Streatham hill east|tumble dryer - st...|      other textiles|            kitchen|                 NULL|                NULL|\n",
      "|2009| July|primary fire|purpose built fla...|            0|                 0|            Camden|         Haverstock|      fridge/freezer|          other item|            kitchen|                Bosch|           classicxx|\n",
      "+----+-----+------------+--------------------+-------------+------------------+------------------+-------------------+--------------------+--------------------+-------------------+---------------------+--------------------+\n",
      "only showing top 5 rows\n",
      "\n"
     ]
    }
   ],
   "source": [
    "# Step 2: Data Exploration\n",
    "print(\"Schema:\")\n",
    "df.printSchema()\n",
    "\n",
    "print(\"First few rows:\")\n",
    "df.show(5)"
   ]
  },
  {
   "cell_type": "markdown",
   "metadata": {},
   "source": [
    "# Step 3: Data Processing (Example: Filtering out irrelevant columns)"
   ]
  },
  {
   "cell_type": "code",
   "execution_count": 18,
   "metadata": {},
   "outputs": [],
   "source": [
    "# Filtering out columns\n",
    "relevant_columns = ['Year', 'NumFireDeaths', 'NumAllFireInjuries', 'IncGeo_BoroughName', 'IncGeo_WardName', 'IgnitionSource', 'LocationFireStarted','ApplianceManufacturer']\n",
    "df_processed = df.select(*relevant_columns)"
   ]
  },
  {
   "cell_type": "markdown",
   "metadata": {},
   "source": [
    "# Step 4: Data Querying"
   ]
  },
  {
   "cell_type": "code",
   "execution_count": 19,
   "metadata": {},
   "outputs": [
    {
     "name": "stdout",
     "output_type": "stream",
     "text": [
      "Fire incidents with deaths:\n",
      "+----+-------------+------------------+--------------------+----------------+--------------------+--------------------+---------------------+\n",
      "|Year|NumFireDeaths|NumAllFireInjuries|  IncGeo_BoroughName| IncGeo_WardName|      IgnitionSource| LocationFireStarted|ApplianceManufacturer|\n",
      "+----+-------------+------------------+--------------------+----------------+--------------------+--------------------+---------------------+\n",
      "|2017|           71|               109|Kensington and ch...|    Notting dale|fridge/freezer - ...|             kitchen|             Hotpoint|\n",
      "|2011|            6|                 2|               Brent|     Dollis hill|      fridge/freezer|       corridor/hall|            Whirlpool|\n",
      "|2023|            2|                 0|              Harrow|         Edgware|tumble dryer - co...|             kitchen|             Hotpoint|\n",
      "|2010|            1|                 0|              Merton|    Lower morden|                NULL|             kitchen|               Hoover|\n",
      "|2010|            1|                 3|              Harrow|Wealdstone south|      fridge/freezer|             kitchen|                 Beko|\n",
      "|2014|            1|                 1|      Waltham forest|       Markhouse|fridge/freezer - ...|under stairs (enc...|                 Beko|\n",
      "|2017|            1|                 1|             Bromley|   St. mary cray|fridge/freezer - ...|         living room|                 Beko|\n",
      "|2017|            1|                 0|          Wandsworth|       West hill|          dishwasher|             kitchen|             Hotpoint|\n",
      "|2020|            1|                 0|             Bromley|   St. mary cray|fridge/freezer - ...|             kitchen|              Indesit|\n",
      "+----+-------------+------------------+--------------------+----------------+--------------------+--------------------+---------------------+\n",
      "\n"
     ]
    }
   ],
   "source": [
    "# Return all records where a death occured\n",
    "\n",
    "df_processed.createOrReplaceTempView(\"fire_incidents\")\n",
    "result = spark.sql(\"SELECT * FROM fire_incidents WHERE NumFireDeaths > 0 ORDER BY NumFireDeaths DESC\")\n",
    "print(\"Fire incidents with deaths:\")\n",
    "result.show()"
   ]
  },
  {
   "cell_type": "code",
   "execution_count": 6,
   "metadata": {},
   "outputs": [
    {
     "name": "stdout",
     "output_type": "stream",
     "text": [
      "Fire incidents with Injuries:\n",
      "+----+-------------+------------------+--------------------+--------------------+--------------------+--------------------+---------------------+\n",
      "|Year|NumFireDeaths|NumAllFireInjuries|  IncGeo_BoroughName|     IncGeo_WardName|      IgnitionSource| LocationFireStarted|ApplianceManufacturer|\n",
      "+----+-------------+------------------+--------------------+--------------------+--------------------+--------------------+---------------------+\n",
      "|2017|           71|               109|Kensington and ch...|        Notting dale|fridge/freezer - ...|             kitchen|             Hotpoint|\n",
      "|2010|            0|                19|            Lewisham|            Deptford|      fridge/freezer|             kitchen|                 Beko|\n",
      "|2014|            0|                 7|          Wandsworth|         Falconbrook|fridge/freezer - ...|             kitchen|             Hotpoint|\n",
      "|2018|            0|                 7|Barking and dagenham|           Becontree|fridge - freestan...|             bedroom|             Hotpoint|\n",
      "|2010|            0|                 6|            Haringey|      Alexandra park|      fridge/freezer|             kitchen|           Electrolux|\n",
      "|2010|            0|                 6|             Bromley|Bromley common & ...|tumble dryer - st...|             kitchen|                 NULL|\n",
      "|2012|            0|                 6|              Camden|             Frognal|fridge - freestan...|             kitchen|            Whirlpool|\n",
      "|2021|            0|                 6|             Bromley|       St. mary cray|tumble dryer - co...|airing/drying cup...|             Hotpoint|\n",
      "|2010|            0|                 5|              Ealing|          Pitshanger|          dishwasher|             kitchen|             Hotpoint|\n",
      "|2012|            0|                 5|Kensington and ch...|   Chelsea riverside|tumble dryer - st...|                NULL|                Creda|\n",
      "|2013|            0|                 5|             Croydon|Purley oaks & rid...|          dishwasher|             kitchen|                Bosch|\n",
      "|2014|            0|                 5|              Ealing|       Southall west|tumble dryer - st...|             kitchen|                 NULL|\n",
      "|2014|            0|                 5|            Haringey|          West green|fridge/freezer - ...|             kitchen|             Hotpoint|\n",
      "|2016|            0|                 5|           Islington|          Caledonian|freezer - freesta...|             kitchen|             Hotpoint|\n",
      "|2017|            0|                 5|              Ealing|            Perivale|tumble dryer - co...|        utility room|               Hoover|\n",
      "|2018|            0|                 5|             Hackney|         Springfield|freezer - freesta...|         dining room|                 NULL|\n",
      "|2021|            0|                 5|             Croydon|      Thornton heath|                NULL|             kitchen|             Hotpoint|\n",
      "|2011|            0|                 4|              Sutton|             Belmont|          dishwasher|             kitchen|                Bosch|\n",
      "|2011|            0|                 4|              Camden|Holborn & covent ...|tumble dryer - st...|        utility room|                 NULL|\n",
      "|2011|            0|                 4|           Redbridge|         Barkingside|      fridge/freezer|             kitchen|             Hotpoint|\n",
      "+----+-------------+------------------+--------------------+--------------------+--------------------+--------------------+---------------------+\n",
      "only showing top 20 rows\n",
      "\n"
     ]
    }
   ],
   "source": [
    "# Return all records where a death occured and sort by the number of injuries\n",
    "\n",
    "result = spark.sql(\"SELECT * FROM fire_incidents WHERE NumAllFireInjuries > 0 ORDER BY NumAllFireInjuries DESC\")\n",
    "print(\"Fire incidents with Injuries:\")\n",
    "result.show()\n",
    "\n"
   ]
  },
  {
   "cell_type": "code",
   "execution_count": 20,
   "metadata": {},
   "outputs": [
    {
     "name": "stdout",
     "output_type": "stream",
     "text": [
      "Fire incidents with deaths and injuries:\n",
      "+----+-------------+------------------+--------------------+----------------+--------------------+--------------------+---------------------+\n",
      "|Year|NumFireDeaths|NumAllFireInjuries|  IncGeo_BoroughName| IncGeo_WardName|      IgnitionSource| LocationFireStarted|ApplianceManufacturer|\n",
      "+----+-------------+------------------+--------------------+----------------+--------------------+--------------------+---------------------+\n",
      "|2017|           71|               109|Kensington and ch...|    Notting dale|fridge/freezer - ...|             kitchen|             Hotpoint|\n",
      "|2011|            6|                 2|               Brent|     Dollis hill|      fridge/freezer|       corridor/hall|            Whirlpool|\n",
      "|2010|            1|                 3|              Harrow|Wealdstone south|      fridge/freezer|             kitchen|                 Beko|\n",
      "|2014|            1|                 1|      Waltham forest|       Markhouse|fridge/freezer - ...|under stairs (enc...|                 Beko|\n",
      "|2017|            1|                 1|             Bromley|   St. mary cray|fridge/freezer - ...|         living room|                 Beko|\n",
      "+----+-------------+------------------+--------------------+----------------+--------------------+--------------------+---------------------+\n",
      "\n"
     ]
    }
   ],
   "source": [
    "# Return all records where a death occured and injuries occured sorting by number of deaths\n",
    "\n",
    "result = spark.sql(\"SELECT * FROM fire_incidents WHERE NumFireDeaths > 0 AND NumAllFireInjuries > 0 ORDER BY NumFireDeaths DESC\")\n",
    "print(\"Fire incidents with deaths and injuries:\")\n",
    "result.show()\n",
    "\n"
   ]
  },
  {
   "cell_type": "code",
   "execution_count": 8,
   "metadata": {},
   "outputs": [
    {
     "name": "stdout",
     "output_type": "stream",
     "text": [
      "Fire incidents with BoroughName:\n",
      "+------------------+--------------+\n",
      "|IncGeo_BoroughName|incident_count|\n",
      "+------------------+--------------+\n",
      "|           Croydon|           247|\n",
      "|            Barnet|           243|\n",
      "|         Southwark|           194|\n",
      "|          Lewisham|           189|\n",
      "|           Lambeth|           185|\n",
      "|            Ealing|           184|\n",
      "|       Westminster|           178|\n",
      "|        Wandsworth|           177|\n",
      "|           Bromley|           171|\n",
      "|        Hillingdon|           160|\n",
      "+------------------+--------------+\n",
      "\n"
     ]
    }
   ],
   "source": [
    "# Return bourough and a count of the number of recorded fires sorting largest first\n",
    "\n",
    "result = spark.sql(\"SELECT IncGeo_BoroughName, COUNT(*) AS incident_count FROM fire_incidents GROUP BY IncGeo_BoroughName ORDER BY incident_count DESC LIMIT 10\")\n",
    "print(\"Fire incidents with BoroughName:\")\n",
    "result.show()\n",
    "\n"
   ]
  },
  {
   "cell_type": "code",
   "execution_count": 9,
   "metadata": {},
   "outputs": [
    {
     "name": "stdout",
     "output_type": "stream",
     "text": [
      "Fire incidents with Year:\n",
      "+----+--------------+\n",
      "|Year|incident_count|\n",
      "+----+--------------+\n",
      "|2018|           360|\n",
      "|2012|           341|\n",
      "|2017|           334|\n",
      "|2019|           331|\n",
      "|2010|           329|\n",
      "|2011|           329|\n",
      "|2015|           323|\n",
      "|2013|           322|\n",
      "|2014|           319|\n",
      "|2009|           305|\n",
      "+----+--------------+\n",
      "\n"
     ]
    }
   ],
   "source": [
    "# Return year and a count of the number of recorded fires sorting largest first\n",
    "\n",
    "result = spark.sql(\"SELECT Year, COUNT(*) AS incident_count FROM fire_incidents GROUP BY Year ORDER BY incident_count DESC LIMIT 10\")\n",
    "print(\"Fire incidents with Year:\")\n",
    "result.show()\n",
    "\n"
   ]
  },
  {
   "cell_type": "code",
   "execution_count": 10,
   "metadata": {},
   "outputs": [
    {
     "name": "stdout",
     "output_type": "stream",
     "text": [
      "Fire incidents for Barnet in the year 2018:\n"
     ]
    }
   ],
   "source": [
    "result = spark.sql(\"SELECT * FROM fire_incidents WHERE IncGeo_BoroughName = 'BARNET' AND Year ='2018' ORDER BY LocationFireStarted ASC, ApplianceManufacturer ASC\")\n",
    "print(\"Fire incidents for Barnet in the year 2018:\")"
   ]
  },
  {
   "cell_type": "code",
   "execution_count": 11,
   "metadata": {},
   "outputs": [],
   "source": [
    "# Step 6: Stop SparkSession\n",
    "spark.stop()"
   ]
  }
 ],
 "metadata": {
  "kernelspec": {
   "display_name": "base",
   "language": "python",
   "name": "python3"
  },
  "language_info": {
   "codemirror_mode": {
    "name": "ipython",
    "version": 3
   },
   "file_extension": ".py",
   "mimetype": "text/x-python",
   "name": "python",
   "nbconvert_exporter": "python",
   "pygments_lexer": "ipython3",
   "version": "3.11.5"
  }
 },
 "nbformat": 4,
 "nbformat_minor": 2
}
